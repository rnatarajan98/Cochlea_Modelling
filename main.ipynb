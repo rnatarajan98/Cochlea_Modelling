{
 "cells": [
  {
   "cell_type": "code",
   "execution_count": 1,
   "id": "66d7717a",
   "metadata": {},
   "outputs": [],
   "source": [
    "# Imports\n",
    "\n",
    "from scipy.io import wavfile\n",
    "import matplotlib.pyplot as plt\n",
    "import numpy as np\n",
    "import tools\n",
    "import basilarmembrane\n",
    "from scipy import signal\n",
    "import seaborn as sns\n",
    "import IHC\n",
    "from cochlea import cochlea\n"
   ]
  },
  {
   "cell_type": "code",
   "execution_count": 2,
   "id": "6fcea990",
   "metadata": {},
   "outputs": [
    {
     "name": "stdout",
     "output_type": "stream",
     "text": [
      "Sample rate of audio data: 44100\n",
      "Length of signal: 14538287 samples\n",
      "Temporal signal duration: 329.6663718820862 seconds (5 minutes and 29.666371882086196 seconds)\n"
     ]
    }
   ],
   "source": [
    "# Load Data\n",
    "\n",
    "samplerate, data = wavfile.read('audio.wav')\n",
    "\n",
    "# Discard single channel as we model only one ear in this case\n",
    "audio = np.array(data[:, 0], dtype=float)\n",
    "# Signal length in samples\n",
    "nt = len(audio)\n",
    "\n",
    "print(\"Sample rate of audio data: {}\".format(samplerate))\n",
    "print(\"Length of signal: {} samples\".format(nt))\n",
    "print(\"Temporal signal duration: {} seconds ({} minutes and {} seconds)\"\n",
    "      .format(nt/samplerate, int((nt/samplerate)//60), (nt/samplerate)%60))"
   ]
  },
  {
   "cell_type": "code",
   "execution_count": 3,
   "id": "1d9475c1",
   "metadata": {},
   "outputs": [
    {
     "name": "stdout",
     "output_type": "stream",
     "text": [
      "-32768.0 32099.0\n"
     ]
    }
   ],
   "source": [
    "#Rescale signal between -1 and 1\n",
    "audio = tools.rescale(audio, -1, 1)\n"
   ]
  },
  {
   "cell_type": "code",
   "execution_count": 4,
   "id": "cc965f5a",
   "metadata": {},
   "outputs": [],
   "source": [
    "# # Plot signal in the time domain\n",
    "# plt.figure(figsize=(10, 5))\n",
    "# plt.plot(audio)\n",
    "# plt.xlabel('Sample n')\n",
    "# plt.ylabel('Signal Amplitude')\n",
    "# plt.title('Dave Brubeck - Take Five')"
   ]
  },
  {
   "cell_type": "code",
   "execution_count": 5,
   "id": "bb90769a",
   "metadata": {},
   "outputs": [],
   "source": [
    "# # Plot signal in the fourier domain\n",
    "# audio_fft = np.fft.fft(audio)\n",
    "# audio_fft_freqs = np.fft.fftfreq(nt, 1/samplerate)\n",
    "\n",
    "# plt.figure(figsize=(20, 5))\n",
    "# plt.suptitle('Magnitude of fourier transform')\n",
    "# plt.subplot(1, 2, 1)\n",
    "# plt.plot(audio_fft_freqs, np.abs(audio_fft))\n",
    "# plt.xlabel('Freqs (Hz)')\n",
    "# plt.ylabel('Magnitude')\n",
    "\n",
    "\n",
    "# plt.subplot(1, 2, 2)\n",
    "# plt.plot(audio_fft_freqs, np.abs(audio_fft))\n",
    "# plt.xlim(0, 5000)\n",
    "# plt.xlabel('Freqs (Hz)')\n",
    "# plt.ylabel('Magnitude')"
   ]
  },
  {
   "cell_type": "code",
   "execution_count": 6,
   "id": "5547b9c8",
   "metadata": {},
   "outputs": [],
   "source": [
    "# powerSpectrum, freqenciesFound, time, imageAxis = plt.specgram(audio, Fs=samplerate)\n",
    "# plt.xlabel('Time (Seconds)')\n",
    "# plt.ylabel('Frequency (hZ)')\n",
    "\n",
    " "
   ]
  },
  {
   "cell_type": "code",
   "execution_count": 7,
   "id": "7054b826",
   "metadata": {},
   "outputs": [],
   "source": [
    "# # Visualise single gammatone filter\n",
    "# ffilt = 1000\n",
    "# gammatone1000 = basilarmembrane.gammatone(ffilt, samplerate)\n",
    "# w, h = signal.freqz(gammatone1000.b, gammatone1000.a, fs=samplerate)\n",
    "\n",
    "# plt.plot(w, 20 * np.log10(abs(h)))\n",
    "# plt.xscale('log')\n",
    "# plt.title('Gammatone filter frequency response')\n",
    "# plt.xlabel('Frequency')\n",
    "# plt.ylabel('Amplitude [dB]')\n",
    "# plt.margins(0, 0.1)\n",
    "# plt.grid(which='both', axis='both')\n",
    "# plt.axvline(ffilt, color='green') # cutoff frequency\n",
    "# plt.show()"
   ]
  },
  {
   "cell_type": "code",
   "execution_count": 8,
   "id": "ca1c4688",
   "metadata": {},
   "outputs": [],
   "source": [
    "# Initialise Model\n",
    "\n",
    "model = cochlea()\n",
    "model.set_input(audio, samplerate)"
   ]
  },
  {
   "cell_type": "code",
   "execution_count": 9,
   "id": "d917b70e",
   "metadata": {},
   "outputs": [],
   "source": [
    "# Generate gammatone basilar membrane filterbank\n",
    "flims = [200, 4000]\n",
    "nfilt = 10\n",
    "\n",
    "#possible basilar membrane filter types:\n",
    "# gammatone\n",
    "# transp\n",
    "model.set_BM('transp', flims, nfilt)\n",
    "\n",
    "\n"
   ]
  },
  {
   "cell_type": "code",
   "execution_count": 10,
   "id": "34b0fad1",
   "metadata": {},
   "outputs": [
    {
     "data": {
      "image/png": "[encoded data removed]",
      "text/plain": [
       "<Figure size 432x288 with 1 Axes>"
      ]
     },
     "metadata": {
      "needs_background": "light"
     },
     "output_type": "display_data"
    }
   ],
   "source": [
    "#Plot filters\n",
    "model.visualise_filters()"
   ]
  },
  {
   "cell_type": "code",
   "execution_count": 11,
   "id": "8fb785d2",
   "metadata": {},
   "outputs": [
    {
     "name": "stdout",
     "output_type": "stream",
     "text": [
      "14538287\n",
      "14538287\n"
     ]
    },
    {
     "data": {
      "text/plain": [
       "[<matplotlib.lines.Line2D at 0x1880090a200>]"
      ]
     },
     "execution_count": 11,
     "metadata": {},
     "output_type": "execute_result"
    },
    {
     "data": {
      "image/png": "[encoded data removed]",
      "text/plain": [
       "<Figure size 432x288 with 1 Axes>"
      ]
     },
     "metadata": {
      "needs_background": "light"
     },
     "output_type": "display_data"
    }
   ],
   "source": [
    "# Filter signal using each band in filterbank (basilar membrane stage 1)\n",
    "model.filter_bm()\n",
    "signal_bm = [band['signal_bm'] for band in model.bm['bands'].values()]\n",
    "\n",
    "print(len(signal_bm[0]))\n",
    "print(len(audio))\n",
    "plt.plot(signal_bm[0])\n",
    "#plt.plot(audio)"
   ]
  },
  {
   "cell_type": "code",
   "execution_count": 12,
   "id": "5f7cac20",
   "metadata": {},
   "outputs": [
    {
     "ename": "IndexError",
     "evalue": "list index out of range",
     "output_type": "error",
     "traceback": [
      "\u001b[1;31m---------------------------------------------------------------------------\u001b[0m",
      "\u001b[1;31mIndexError\u001b[0m                                Traceback (most recent call last)",
      "Input \u001b[1;32mIn [12]\u001b[0m, in \u001b[0;36m<cell line: 4>\u001b[1;34m()\u001b[0m\n\u001b[0;32m      1\u001b[0m \u001b[38;5;66;03m# Filter each band using IHC lowpass and half wave rectification (IHC stage 2)\u001b[39;00m\n\u001b[0;32m      2\u001b[0m sig_ihc \u001b[38;5;241m=\u001b[39m model\u001b[38;5;241m.\u001b[39mfilter_ihc()\n\u001b[1;32m----> 4\u001b[0m plt\u001b[38;5;241m.\u001b[39mplot(\u001b[43msignal_bm\u001b[49m\u001b[43m[\u001b[49m\u001b[38;5;241;43m1\u001b[39;49m\u001b[43m]\u001b[49m)\n",
      "\u001b[1;31mIndexError\u001b[0m: list index out of range"
     ]
    }
   ],
   "source": [
    "# Filter each band using IHC lowpass and half wave rectification (IHC stage 2)\n",
    "sig_ihc = model.filter_ihc()\n",
    "\n"
   ]
  },
  {
   "cell_type": "code",
   "execution_count": null,
   "id": "6bff93e0",
   "metadata": {},
   "outputs": [],
   "source": [
    "# for sig in sig_ihc:\n",
    "#     plt.plot(sig)\n",
    "i = 8\n",
    "signal_ihc = sig_ihc[i]\n",
    "\n",
    "signal_bm = [band['signal_bm'] for band in model.bm['bands'].values()]\n",
    "signal_bm = signal_bm[i]\n",
    "\n",
    "sig_fft_freqs = np.fft.fftfreq(nt, 1/samplerate)\n",
    "\n",
    "signal_ihc_fft = abs(np.fft.fft(signal_ihc))\n",
    "signal_bm_fft = abs(np.fft.fft(signal_bm))\n",
    "\n",
    "\n"
   ]
  },
  {
   "cell_type": "code",
   "execution_count": null,
   "id": "0a0055c1",
   "metadata": {},
   "outputs": [],
   "source": [
    "plt.figure()\n",
    "plt.subplot(1, 2, 1)\n",
    "plt.xlim([0, 7000])\n",
    "plt.plot(sig_fft_freqs, signal_bm_fft, label=\"bm\")\n",
    "plt.subplot(1, 2, 2)\n",
    "plt.plot(sig_fft_freqs, signal_ihc_fft, label=\"ihc\")\n",
    "plt.xlim([0, 7000])\n",
    "\n",
    "plt.figure()\n",
    "plt.subplot(1, 2, 1)\n",
    "plt.plot(sig_fft_freqs, signal_bm_fft, label=\"bm\")\n",
    "plt.xlim([0, 2000])\n",
    "plt.subplot(1, 2, 2)\n",
    "plt.plot(sig_fft_freqs, signal_ihc_fft, label=\"ihc\")\n",
    "plt.xlim([0, 2000])\n",
    "\n",
    "\n",
    "\n"
   ]
  },
  {
   "cell_type": "code",
   "execution_count": null,
   "id": "1e7de0af",
   "metadata": {},
   "outputs": [],
   "source": [
    "plt.figure()\n",
    "plt.subplot(1, 2, 1)\n",
    "plt.plot(signal_bm, label=\"bm\")\n",
    "plt.subplot(1, 2, 2)\n",
    "plt.plot(signal_ihc, label=\"ihc\")\n",
    "\n",
    "plt.figure()\n",
    "plt.subplot(1, 2, 1)\n",
    "plt.plot(signal_bm[2000:2500], label=\"bm\")\n",
    "plt.subplot(1, 2, 2)\n",
    "plt.plot(signal_ihc[2000:2500], label=\"ihc\")\n"
   ]
  },
  {
   "cell_type": "code",
   "execution_count": null,
   "id": "dc14132c",
   "metadata": {},
   "outputs": [],
   "source": []
  },
  {
   "cell_type": "code",
   "execution_count": null,
   "id": "aa800b22",
   "metadata": {},
   "outputs": [],
   "source": []
  }
 ],
 "metadata": {
  "kernelspec": {
   "display_name": "Python 3 (ipykernel)",
   "language": "python",
   "name": "python3"
  },
  "language_info": {
   "codemirror_mode": {
    "name": "ipython",
    "version": 3
   },
   "file_extension": ".py",
   "mimetype": "text/x-python",
   "name": "python",
   "nbconvert_exporter": "python",
   "pygments_lexer": "ipython3",
   "version": "3.10.4"
  }
 },
 "nbformat": 4,
 "nbformat_minor": 5
}
